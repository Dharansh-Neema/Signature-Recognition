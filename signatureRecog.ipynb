{
 "cells": [
  {
   "cell_type": "code",
   "execution_count": null,
   "id": "d391fc70-a996-4052-8008-a2459fe3ee57",
   "metadata": {},
   "outputs": [],
   "source": [
    "import os\n",
    "import torch\n",
    "import numpy\n",
    "import pandas as pd\n",
    "from tqdm import tqdm\n",
    "import torch.nn.functional as F"
   ]
  },
  {
   "cell_type": "code",
   "execution_count": 2,
   "id": "a46f6ff6-93a7-4e7b-a739-3685b3a9a379",
   "metadata": {},
   "outputs": [],
   "source": [
    "data_dir = r\"E:\\ProjectsAI\\Signature-Recognition\\data\\signatures\""
   ]
  },
  {
   "cell_type": "code",
   "execution_count": 3,
   "id": "ae9fb144-27ad-4c33-9112-7b0486b5dd44",
   "metadata": {},
   "outputs": [
    {
     "data": {
      "text/plain": [
       "['full_forg', 'full_org', 'Readme.txt']"
      ]
     },
     "execution_count": 3,
     "metadata": {},
     "output_type": "execute_result"
    }
   ],
   "source": [
    "class_name = os.listdir(data_dir)\n",
    "class_name"
   ]
  },
  {
   "cell_type": "code",
   "execution_count": 4,
   "id": "32e0aa5c-c876-400c-9279-5c58683a304d",
   "metadata": {},
   "outputs": [],
   "source": [
    "from torchvision.datasets import ImageFolder\n",
    "from torch.utils.data import DataLoader\n",
    "from torchvision.utils import make_grid\n",
    "from torchvision import transforms as T,datasets"
   ]
  },
  {
   "cell_type": "code",
   "execution_count": 5,
   "id": "36e8470a-b6ec-4972-a70c-faeab9dee5b9",
   "metadata": {},
   "outputs": [
    {
     "data": {
      "text/plain": [
       "device(type='cpu')"
      ]
     },
     "execution_count": 5,
     "metadata": {},
     "output_type": "execute_result"
    }
   ],
   "source": [
    "device = torch.device(\"cpu\")\n",
    "device"
   ]
  },
  {
   "cell_type": "code",
   "execution_count": 6,
   "id": "f6479d64-303e-4604-a96d-5e2d646b7ffb",
   "metadata": {},
   "outputs": [],
   "source": [
    "# transforming the data\n",
    "\n",
    "data_transform = T.Compose([\n",
    "    T.Resize(size=(224,224)), #Resizing the image by 224 by 224\n",
    "    T.RandomRotation(degrees=(-20,+20)), # random rotation of an image\n",
    "    T.ToTensor(), # converting the dimension (height,weight,channel to channel,height,weight)\n",
    "    T.Normalize([0.485,0.456,0.406],[0.229,0.224,0.225]) #Normalise by 3means 3std's of image net\n",
    "])"
   ]
  },
  {
   "cell_type": "code",
   "execution_count": 7,
   "id": "d19d2275-70ff-4378-877c-4de352fae528",
   "metadata": {},
   "outputs": [],
   "source": [
    "data = datasets.ImageFolder(data_dir,transform = data_transform)\n",
    "total_count = (len(data))"
   ]
  },
  {
   "cell_type": "code",
   "execution_count": 8,
   "id": "2fcc4ea0-e4a7-40fc-9934-302704cd887f",
   "metadata": {},
   "outputs": [
    {
     "data": {
      "text/plain": [
       "2640"
      ]
     },
     "execution_count": 8,
     "metadata": {},
     "output_type": "execute_result"
    }
   ],
   "source": [
    "data.classes\n",
    "total_count"
   ]
  },
  {
   "cell_type": "code",
   "execution_count": 9,
   "id": "65bb82d1-b2d9-4e08-9f1d-782567088275",
   "metadata": {},
   "outputs": [
    {
     "name": "stdout",
     "output_type": "stream",
     "text": [
      "792\n"
     ]
    }
   ],
   "source": [
    "# Splitting the data\n",
    "train_count = int(0.6 * total_count) # 60% for trainign data \n",
    "valid_count = int(0.3 * total_count) # 30% for validation\n",
    "\n",
    "test_count = total_count - train_count-valid_count\n",
    "\n",
    "train_data , val_data , test_data = torch.utils.data.random_split(data,(train_count,valid_count,test_count))\n",
    "print(len(val_data))"
   ]
  },
  {
   "cell_type": "code",
   "execution_count": 10,
   "id": "944a2ab3-d715-40a6-a545-ed3a3df14416",
   "metadata": {},
   "outputs": [
    {
     "data": {
      "text/plain": [
       "Dataset ImageFolder\n",
       "    Number of datapoints: 2640\n",
       "    Root location: E:\\ProjectsAI\\Signature-Recognition\\data\\signatures\n",
       "    StandardTransform\n",
       "Transform: Compose(\n",
       "               Resize(size=(224, 224), interpolation=bilinear, max_size=None, antialias=True)\n",
       "               RandomRotation(degrees=[-20.0, 20.0], interpolation=nearest, expand=False, fill=0)\n",
       "               ToTensor()\n",
       "               Normalize(mean=[0.485, 0.456, 0.406], std=[0.229, 0.224, 0.225])\n",
       "           )"
      ]
     },
     "execution_count": 10,
     "metadata": {},
     "output_type": "execute_result"
    }
   ],
   "source": [
    "train_data.dataset"
   ]
  },
  {
   "cell_type": "code",
   "execution_count": 26,
   "id": "a6f97171-2c75-4b49-a983-957efeb083ab",
   "metadata": {},
   "outputs": [],
   "source": [
    "import numpy as np\n",
    "import matplotlib.pyplot as plt\n",
    "def show_image(image,label,get_denormalize=True):\n",
    "    image = image.permute(1,2,0)\n",
    "    mean = torch.FloatTensor([0.485,0.456,0.406])\n",
    "    std = torch.FloatTensor([0.229,0.224,0.225])\n",
    "\n",
    "    if get_denormalize == True:\n",
    "        image = image*std + mean\n",
    "        image = np.clip(image,0,1)\n",
    "        plt.imshow(image)\n",
    "        plt.title(label)\n",
    "    else:\n",
    "        plt.imshow(image)\n",
    "        plt.title(label)\n"
   ]
  },
  {
   "cell_type": "code",
   "execution_count": 25,
   "id": "1c68a472-318d-47d6-bd18-e79e3971e61f",
   "metadata": {},
   "outputs": [],
   "source": [
    "def show_grid(image,title=None):\n",
    "    image = image.permute(1,2,0)\n",
    "    mean = torch.FloatTensor([0.485,0.456,0.406])\n",
    "    std = torch.FloatTensor([0.229,0.224,0.225])\n",
    "\n",
    "    image = image * std + mean\n",
    "    image = np.clip(image,0,1)\n",
    "\n",
    "    plt.figure(figsize=[15,15])\n",
    "    plt.imshow(image)\n",
    "\n",
    "    if title != None:\n",
    "        plt.title(title)"
   ]
  },
  {
   "cell_type": "code",
   "execution_count": 13,
   "id": "848c0868-f655-4161-9bb9-042c27fe331c",
   "metadata": {},
   "outputs": [],
   "source": [
    "def accuracy(y_pred,y_true):\n",
    "    y_pred = F.softmax(y_pred,dim=1)\n",
    "    top_p,top_class = y.pred.topk(1,dim=1)\n",
    "    equals = top_class == y_true.view(*top_class.shape)\n",
    "    return torch.mean(equals.type(torch.FloatTensor))"
   ]
  },
  {
   "cell_type": "code",
   "execution_count": 34,
   "id": "4a9c6e55-44ec-4170-bf2c-a4f858cc6c61",
   "metadata": {},
   "outputs": [
    {
     "data": {
      "image/png": "[encoded data removed]",
      "text/plain": [
       "<Figure size 640x480 with 1 Axes>"
      ]
     },
     "metadata": {},
     "output_type": "display_data"
    }
   ],
   "source": [
    "image,label=train_data[0]\n",
    "show_image(image,label)"
   ]
  },
  {
   "cell_type": "code",
   "execution_count": 32,
   "id": "1d4844b8-62e8-4688-bd08-f293ac58fab1",
   "metadata": {},
   "outputs": [
    {
     "name": "stdout",
     "output_type": "stream",
     "text": [
      "No. of batches in trainloader :50\n",
      "No. of Total examples:1584\n",
      "No. of batches in validationLoader :25.\n",
      "No. of total examples :792\n",
      "No. of batches in testloader :9\n",
      "No. of total examples:264\n"
     ]
    }
   ],
   "source": [
    "# Data loaders\n",
    "\n",
    "trainloader = DataLoader(train_data,batch_size = 32,shuffle=True)\n",
    "print(\"No. of batches in trainloader :{}\".format(len(trainloader)))\n",
    "print(\"No. of Total examples:{}\".format(len(trainloader.dataset)))\n",
    "\n",
    "validationloader = DataLoader(val_data,batch_size=32,shuffle=True)\n",
    "print(\"No. of batches in validationLoader :{}.\".format(len(validationloader)))\n",
    "print(\"No. of total examples :{}\".format(len(validationloader.dataset)))\n",
    "\n",
    "testloader = DataLoader(test_data,batch_size=32,shuffle=False)\n",
    "print(\"No. of batches in testloader :{}\".format(len(testloader)))\n",
    "print(\"No. of total examples:{}\".format(len(testloader.dataset)))"
   ]
  },
  {
   "cell_type": "code",
   "execution_count": 36,
   "id": "fa926654-0261-4e9f-8f5d-2f1af9507f67",
   "metadata": {},
   "outputs": [],
   "source": [
    "# Model - resnet34 model (transfer leanrning model)\n",
    "import torch\n",
    "import torch.nn as nn\n",
    "import torch.nn.functional as F\n",
    "import torch.optim as optim\n",
    "from torchvision import models\n",
    "import torchvision.transforms as transforms"
   ]
  },
  {
   "cell_type": "code",
   "execution_count": 37,
   "id": "4ac223d5-1751-41b6-8584-6c85fb73b953",
   "metadata": {},
   "outputs": [
    {
     "name": "stderr",
     "output_type": "stream",
     "text": [
      "E:\\ProjectsAI\\Signature-Recognition\\.venv\\Lib\\site-packages\\torchvision\\models\\_utils.py:208: UserWarning: The parameter 'pretrained' is deprecated since 0.13 and may be removed in the future, please use 'weights' instead.\n",
      "  warnings.warn(\n",
      "E:\\ProjectsAI\\Signature-Recognition\\.venv\\Lib\\site-packages\\torchvision\\models\\_utils.py:223: UserWarning: Arguments other than a weight enum or `None` for 'weights' are deprecated since 0.13 and may be removed in the future. The current behavior is equivalent to passing `weights=ResNet34_Weights.IMAGENET1K_V1`. You can also use `weights=ResNet34_Weights.DEFAULT` to get the most up-to-date weights.\n",
      "  warnings.warn(msg)\n",
      "Downloading: \"https://download.pytorch.org/models/resnet34-b627a593.pth\" to C:\\Users\\systems/.cache\\torch\\hub\\checkpoints\\resnet34-b627a593.pth\n",
      "100%|██████████████████████████████████████████████████████████████████████████████| 83.3M/83.3M [01:39<00:00, 874kB/s]\n"
     ]
    }
   ],
   "source": [
    "model=models.resnet34(pretrained=True)"
   ]
  },
  {
   "cell_type": "code",
   "execution_count": 39,
   "id": "0a513947-61b4-41f4-9907-a201b3a1ec22",
   "metadata": {},
   "outputs": [],
   "source": [
    "model.fc = nn.Sequential (\n",
    "    nn.Dropout(0.1),\n",
    "    nn.Linear(model.fc.in_features,len(class_name)))"
   ]
  },
  {
   "cell_type": "code",
   "execution_count": 40,
   "id": "4554f402-5bd3-4554-b27f-ffbc7ef1246d",
   "metadata": {},
   "outputs": [],
   "source": [
    "model = model.to(device)"
   ]
  },
  {
   "cell_type": "code",
   "execution_count": 41,
   "id": "446cb44b-46ab-47ef-a631-e59fe1d4317c",
   "metadata": {},
   "outputs": [],
   "source": [
    "criterion = torch.nn.CrossEntropyLoss()"
   ]
  },
  {
   "cell_type": "code",
   "execution_count": 42,
   "id": "e70ee169-a32d-4cab-bae3-cc147eebc22d",
   "metadata": {},
   "outputs": [],
   "source": [
    "optimizer = torch.optim.SGD(model.parameters(),lr=1e-3,momentum=0.9)"
   ]
  },
  {
   "cell_type": "code",
   "execution_count": 54,
   "id": "aac22aff-9a1e-4772-bb5a-07fff087954b",
   "metadata": {},
   "outputs": [],
   "source": [
    "def train(model,criterion,optimizer,train_dataloader,test_dataloader):\n",
    "    total_train_loss=0\n",
    "    total_test_loss = 0\n",
    "    model.train()\n",
    "\n",
    "    with tqdm(train_dataloader,unit='batch',leave=False) as  pbar:\n",
    "        pbar.set_description(f'training')\n",
    "\n",
    "        for images,idxs in pbar:\n",
    "            images = images.to(device,non_blocking=True)\n",
    "            idxs = idxs.to(device,non_blocking=True)\n",
    "            output = model(images)\n",
    "\n",
    "\n",
    "            loss = criterion(output,idxs)\n",
    "            total_train_loss += loss.item()\n",
    "\n",
    "            loss.backward()\n",
    "            optimizer.step()\n",
    "            optimizer.zero_grad(set_to_none=True)\n",
    "\n",
    "    model.eval()\n",
    "    with tqdm(test_dataloader,unit = 'batch',leave=False) as pbar:\n",
    "        pbar.set_description(f'testing')\n",
    "        for images,idxs in pbar:\n",
    "            images = images.to(device,non_blocking=True)\n",
    "            idxs = idxs.to(device,non_blocking=True)\n",
    "\n",
    "            output = model(images)\n",
    "            loss = criterion(output,idxs)\n",
    "            total_test_loss += loss.item()\n",
    "\n",
    "    train_acc = total_train_loss/len(train_data)\n",
    "    test_acc = total_test_loss/len(val_data)\n",
    "    print(f'Train loss :{train_acc:.4f} test loss : {test_acc}')"
   ]
  },
  {
   "cell_type": "code",
   "execution_count": 55,
   "id": "c6f35397-3ba3-4c42-a6b0-05551368f165",
   "metadata": {},
   "outputs": [
    {
     "name": "stdout",
     "output_type": "stream",
     "text": [
      "Epoch 1/2\n"
     ]
    },
    {
     "name": "stderr",
     "output_type": "stream",
     "text": [
      "                                                                                                                       "
     ]
    },
    {
     "name": "stdout",
     "output_type": "stream",
     "text": [
      "Train loss :0.0003 test loss : 0.00027853005384612415\n",
      "Epoch 2/2\n"
     ]
    },
    {
     "name": "stderr",
     "output_type": "stream",
     "text": [
      "                                                                                                                       "
     ]
    },
    {
     "name": "stdout",
     "output_type": "stream",
     "text": [
      "Train loss :0.0009 test loss : 0.0003378043866086036\n",
      "CPU times: total: 58min 54s\n",
      "Wall time: 15min 38s\n"
     ]
    },
    {
     "name": "stderr",
     "output_type": "stream",
     "text": []
    }
   ],
   "source": [
    "%%time\n",
    "epochs = 2\n",
    "for i in range(epochs):\n",
    "    print(f\"Epoch {i+1}/{epochs}\")\n",
    "    train(model,criterion,optimizer,trainloader,validationloader)"
   ]
  },
  {
   "cell_type": "code",
   "execution_count": 56,
   "id": "f6053125-276f-467a-9aaf-2d205c058ae0",
   "metadata": {},
   "outputs": [
    {
     "data": {
      "text/plain": [
       "'E:\\\\ProjectsAI\\\\Signature-Recognition'"
      ]
     },
     "execution_count": 56,
     "metadata": {},
     "output_type": "execute_result"
    }
   ],
   "source": [
    "pwd"
   ]
  },
  {
   "cell_type": "code",
   "execution_count": 57,
   "id": "554a5ff1-767f-484c-bf45-c1bdf40e943c",
   "metadata": {},
   "outputs": [],
   "source": [
    "path = r'E:\\\\ProjectsAI\\\\Signature-Recognition\\\\model.pt'\n"
   ]
  },
  {
   "cell_type": "code",
   "execution_count": 58,
   "id": "90f6815c-41c4-4363-9b6a-82ee1f569560",
   "metadata": {},
   "outputs": [],
   "source": [
    "torch.save(model,path)"
   ]
  },
  {
   "cell_type": "code",
   "execution_count": 62,
   "id": "58239c2c-03a9-4693-8b3b-2c3f8acba08d",
   "metadata": {},
   "outputs": [
    {
     "data": {
      "text/plain": [
       "ResNet(\n",
       "  (conv1): Conv2d(3, 64, kernel_size=(7, 7), stride=(2, 2), padding=(3, 3), bias=False)\n",
       "  (bn1): BatchNorm2d(64, eps=1e-05, momentum=0.1, affine=True, track_running_stats=True)\n",
       "  (relu): ReLU(inplace=True)\n",
       "  (maxpool): MaxPool2d(kernel_size=3, stride=2, padding=1, dilation=1, ceil_mode=False)\n",
       "  (layer1): Sequential(\n",
       "    (0): BasicBlock(\n",
       "      (conv1): Conv2d(64, 64, kernel_size=(3, 3), stride=(1, 1), padding=(1, 1), bias=False)\n",
       "      (bn1): BatchNorm2d(64, eps=1e-05, momentum=0.1, affine=True, track_running_stats=True)\n",
       "      (relu): ReLU(inplace=True)\n",
       "      (conv2): Conv2d(64, 64, kernel_size=(3, 3), stride=(1, 1), padding=(1, 1), bias=False)\n",
       "      (bn2): BatchNorm2d(64, eps=1e-05, momentum=0.1, affine=True, track_running_stats=True)\n",
       "    )\n",
       "    (1): BasicBlock(\n",
       "      (conv1): Conv2d(64, 64, kernel_size=(3, 3), stride=(1, 1), padding=(1, 1), bias=False)\n",
       "      (bn1): BatchNorm2d(64, eps=1e-05, momentum=0.1, affine=True, track_running_stats=True)\n",
       "      (relu): ReLU(inplace=True)\n",
       "      (conv2): Conv2d(64, 64, kernel_size=(3, 3), stride=(1, 1), padding=(1, 1), bias=False)\n",
       "      (bn2): BatchNorm2d(64, eps=1e-05, momentum=0.1, affine=True, track_running_stats=True)\n",
       "    )\n",
       "    (2): BasicBlock(\n",
       "      (conv1): Conv2d(64, 64, kernel_size=(3, 3), stride=(1, 1), padding=(1, 1), bias=False)\n",
       "      (bn1): BatchNorm2d(64, eps=1e-05, momentum=0.1, affine=True, track_running_stats=True)\n",
       "      (relu): ReLU(inplace=True)\n",
       "      (conv2): Conv2d(64, 64, kernel_size=(3, 3), stride=(1, 1), padding=(1, 1), bias=False)\n",
       "      (bn2): BatchNorm2d(64, eps=1e-05, momentum=0.1, affine=True, track_running_stats=True)\n",
       "    )\n",
       "  )\n",
       "  (layer2): Sequential(\n",
       "    (0): BasicBlock(\n",
       "      (conv1): Conv2d(64, 128, kernel_size=(3, 3), stride=(2, 2), padding=(1, 1), bias=False)\n",
       "      (bn1): BatchNorm2d(128, eps=1e-05, momentum=0.1, affine=True, track_running_stats=True)\n",
       "      (relu): ReLU(inplace=True)\n",
       "      (conv2): Conv2d(128, 128, kernel_size=(3, 3), stride=(1, 1), padding=(1, 1), bias=False)\n",
       "      (bn2): BatchNorm2d(128, eps=1e-05, momentum=0.1, affine=True, track_running_stats=True)\n",
       "      (downsample): Sequential(\n",
       "        (0): Conv2d(64, 128, kernel_size=(1, 1), stride=(2, 2), bias=False)\n",
       "        (1): BatchNorm2d(128, eps=1e-05, momentum=0.1, affine=True, track_running_stats=True)\n",
       "      )\n",
       "    )\n",
       "    (1): BasicBlock(\n",
       "      (conv1): Conv2d(128, 128, kernel_size=(3, 3), stride=(1, 1), padding=(1, 1), bias=False)\n",
       "      (bn1): BatchNorm2d(128, eps=1e-05, momentum=0.1, affine=True, track_running_stats=True)\n",
       "      (relu): ReLU(inplace=True)\n",
       "      (conv2): Conv2d(128, 128, kernel_size=(3, 3), stride=(1, 1), padding=(1, 1), bias=False)\n",
       "      (bn2): BatchNorm2d(128, eps=1e-05, momentum=0.1, affine=True, track_running_stats=True)\n",
       "    )\n",
       "    (2): BasicBlock(\n",
       "      (conv1): Conv2d(128, 128, kernel_size=(3, 3), stride=(1, 1), padding=(1, 1), bias=False)\n",
       "      (bn1): BatchNorm2d(128, eps=1e-05, momentum=0.1, affine=True, track_running_stats=True)\n",
       "      (relu): ReLU(inplace=True)\n",
       "      (conv2): Conv2d(128, 128, kernel_size=(3, 3), stride=(1, 1), padding=(1, 1), bias=False)\n",
       "      (bn2): BatchNorm2d(128, eps=1e-05, momentum=0.1, affine=True, track_running_stats=True)\n",
       "    )\n",
       "    (3): BasicBlock(\n",
       "      (conv1): Conv2d(128, 128, kernel_size=(3, 3), stride=(1, 1), padding=(1, 1), bias=False)\n",
       "      (bn1): BatchNorm2d(128, eps=1e-05, momentum=0.1, affine=True, track_running_stats=True)\n",
       "      (relu): ReLU(inplace=True)\n",
       "      (conv2): Conv2d(128, 128, kernel_size=(3, 3), stride=(1, 1), padding=(1, 1), bias=False)\n",
       "      (bn2): BatchNorm2d(128, eps=1e-05, momentum=0.1, affine=True, track_running_stats=True)\n",
       "    )\n",
       "  )\n",
       "  (layer3): Sequential(\n",
       "    (0): BasicBlock(\n",
       "      (conv1): Conv2d(128, 256, kernel_size=(3, 3), stride=(2, 2), padding=(1, 1), bias=False)\n",
       "      (bn1): BatchNorm2d(256, eps=1e-05, momentum=0.1, affine=True, track_running_stats=True)\n",
       "      (relu): ReLU(inplace=True)\n",
       "      (conv2): Conv2d(256, 256, kernel_size=(3, 3), stride=(1, 1), padding=(1, 1), bias=False)\n",
       "      (bn2): BatchNorm2d(256, eps=1e-05, momentum=0.1, affine=True, track_running_stats=True)\n",
       "      (downsample): Sequential(\n",
       "        (0): Conv2d(128, 256, kernel_size=(1, 1), stride=(2, 2), bias=False)\n",
       "        (1): BatchNorm2d(256, eps=1e-05, momentum=0.1, affine=True, track_running_stats=True)\n",
       "      )\n",
       "    )\n",
       "    (1): BasicBlock(\n",
       "      (conv1): Conv2d(256, 256, kernel_size=(3, 3), stride=(1, 1), padding=(1, 1), bias=False)\n",
       "      (bn1): BatchNorm2d(256, eps=1e-05, momentum=0.1, affine=True, track_running_stats=True)\n",
       "      (relu): ReLU(inplace=True)\n",
       "      (conv2): Conv2d(256, 256, kernel_size=(3, 3), stride=(1, 1), padding=(1, 1), bias=False)\n",
       "      (bn2): BatchNorm2d(256, eps=1e-05, momentum=0.1, affine=True, track_running_stats=True)\n",
       "    )\n",
       "    (2): BasicBlock(\n",
       "      (conv1): Conv2d(256, 256, kernel_size=(3, 3), stride=(1, 1), padding=(1, 1), bias=False)\n",
       "      (bn1): BatchNorm2d(256, eps=1e-05, momentum=0.1, affine=True, track_running_stats=True)\n",
       "      (relu): ReLU(inplace=True)\n",
       "      (conv2): Conv2d(256, 256, kernel_size=(3, 3), stride=(1, 1), padding=(1, 1), bias=False)\n",
       "      (bn2): BatchNorm2d(256, eps=1e-05, momentum=0.1, affine=True, track_running_stats=True)\n",
       "    )\n",
       "    (3): BasicBlock(\n",
       "      (conv1): Conv2d(256, 256, kernel_size=(3, 3), stride=(1, 1), padding=(1, 1), bias=False)\n",
       "      (bn1): BatchNorm2d(256, eps=1e-05, momentum=0.1, affine=True, track_running_stats=True)\n",
       "      (relu): ReLU(inplace=True)\n",
       "      (conv2): Conv2d(256, 256, kernel_size=(3, 3), stride=(1, 1), padding=(1, 1), bias=False)\n",
       "      (bn2): BatchNorm2d(256, eps=1e-05, momentum=0.1, affine=True, track_running_stats=True)\n",
       "    )\n",
       "    (4): BasicBlock(\n",
       "      (conv1): Conv2d(256, 256, kernel_size=(3, 3), stride=(1, 1), padding=(1, 1), bias=False)\n",
       "      (bn1): BatchNorm2d(256, eps=1e-05, momentum=0.1, affine=True, track_running_stats=True)\n",
       "      (relu): ReLU(inplace=True)\n",
       "      (conv2): Conv2d(256, 256, kernel_size=(3, 3), stride=(1, 1), padding=(1, 1), bias=False)\n",
       "      (bn2): BatchNorm2d(256, eps=1e-05, momentum=0.1, affine=True, track_running_stats=True)\n",
       "    )\n",
       "    (5): BasicBlock(\n",
       "      (conv1): Conv2d(256, 256, kernel_size=(3, 3), stride=(1, 1), padding=(1, 1), bias=False)\n",
       "      (bn1): BatchNorm2d(256, eps=1e-05, momentum=0.1, affine=True, track_running_stats=True)\n",
       "      (relu): ReLU(inplace=True)\n",
       "      (conv2): Conv2d(256, 256, kernel_size=(3, 3), stride=(1, 1), padding=(1, 1), bias=False)\n",
       "      (bn2): BatchNorm2d(256, eps=1e-05, momentum=0.1, affine=True, track_running_stats=True)\n",
       "    )\n",
       "  )\n",
       "  (layer4): Sequential(\n",
       "    (0): BasicBlock(\n",
       "      (conv1): Conv2d(256, 512, kernel_size=(3, 3), stride=(2, 2), padding=(1, 1), bias=False)\n",
       "      (bn1): BatchNorm2d(512, eps=1e-05, momentum=0.1, affine=True, track_running_stats=True)\n",
       "      (relu): ReLU(inplace=True)\n",
       "      (conv2): Conv2d(512, 512, kernel_size=(3, 3), stride=(1, 1), padding=(1, 1), bias=False)\n",
       "      (bn2): BatchNorm2d(512, eps=1e-05, momentum=0.1, affine=True, track_running_stats=True)\n",
       "      (downsample): Sequential(\n",
       "        (0): Conv2d(256, 512, kernel_size=(1, 1), stride=(2, 2), bias=False)\n",
       "        (1): BatchNorm2d(512, eps=1e-05, momentum=0.1, affine=True, track_running_stats=True)\n",
       "      )\n",
       "    )\n",
       "    (1): BasicBlock(\n",
       "      (conv1): Conv2d(512, 512, kernel_size=(3, 3), stride=(1, 1), padding=(1, 1), bias=False)\n",
       "      (bn1): BatchNorm2d(512, eps=1e-05, momentum=0.1, affine=True, track_running_stats=True)\n",
       "      (relu): ReLU(inplace=True)\n",
       "      (conv2): Conv2d(512, 512, kernel_size=(3, 3), stride=(1, 1), padding=(1, 1), bias=False)\n",
       "      (bn2): BatchNorm2d(512, eps=1e-05, momentum=0.1, affine=True, track_running_stats=True)\n",
       "    )\n",
       "    (2): BasicBlock(\n",
       "      (conv1): Conv2d(512, 512, kernel_size=(3, 3), stride=(1, 1), padding=(1, 1), bias=False)\n",
       "      (bn1): BatchNorm2d(512, eps=1e-05, momentum=0.1, affine=True, track_running_stats=True)\n",
       "      (relu): ReLU(inplace=True)\n",
       "      (conv2): Conv2d(512, 512, kernel_size=(3, 3), stride=(1, 1), padding=(1, 1), bias=False)\n",
       "      (bn2): BatchNorm2d(512, eps=1e-05, momentum=0.1, affine=True, track_running_stats=True)\n",
       "    )\n",
       "  )\n",
       "  (avgpool): AdaptiveAvgPool2d(output_size=(1, 1))\n",
       "  (fc): Sequential(\n",
       "    (0): Dropout(p=0.1, inplace=False)\n",
       "    (1): Linear(in_features=512, out_features=3, bias=True)\n",
       "  )\n",
       ")"
      ]
     },
     "execution_count": 62,
     "metadata": {},
     "output_type": "execute_result"
    }
   ],
   "source": [
    "saved_model = torch.load(path,weights_only=False)\n",
    "saved_model.eval()"
   ]
  },
  {
   "cell_type": "code",
   "execution_count": null,
   "id": "5b657eb8-e1ba-4af6-9104-64d6ca70c1cc",
   "metadata": {},
   "outputs": [],
   "source": [
    "# Model Evaluation"
   ]
  },
  {
   "cell_type": "code",
   "execution_count": 63,
   "id": "0237c194-1140-4a21-b37c-85296ef10e63",
   "metadata": {},
   "outputs": [],
   "source": [
    "def evaluate(model,criterion,optimizer,test_dataloader):\n",
    "\n",
    "    total_test_loss = 0\n",
    "    model.eval()\n",
    "    with tqdm(test_dataloader,unit='batch',leave=False) as pbar:\n",
    "        pbar.set_description(f'testing')\n",
    "        for images,idxs in pbar:\n",
    "            images = images.to(device,non_blocking=True)\n",
    "            idxs = idxs.to(device,non_blocking=True)\n",
    "\n",
    "            output = model(images)\n",
    "            loss = criterion(output,idxs)\n",
    "            total_test_loss+=loss.item()\n",
    "\n",
    "        test_acc = total_test_loss/len(val_data)\n",
    "        print(f'Test loss : {test_acc:.4f}')"
   ]
  },
  {
   "cell_type": "code",
   "execution_count": 64,
   "id": "d8db6dc6-d52c-414c-867d-6c7f24508793",
   "metadata": {},
   "outputs": [
    {
     "name": "stderr",
     "output_type": "stream",
     "text": [
      "                                                                                                                       "
     ]
    },
    {
     "name": "stdout",
     "output_type": "stream",
     "text": [
      "Test loss : 0.0001\n"
     ]
    },
    {
     "name": "stderr",
     "output_type": "stream",
     "text": []
    }
   ],
   "source": [
    "evaluate(model,criterion,optimizer,testloader)"
   ]
  },
  {
   "cell_type": "code",
   "execution_count": 65,
   "id": "bd41f1cf-0098-4fbf-8099-02d000420b62",
   "metadata": {},
   "outputs": [
    {
     "data": {
      "text/plain": [
       "['full_forg', 'full_org']"
      ]
     },
     "execution_count": 65,
     "metadata": {},
     "output_type": "execute_result"
    }
   ],
   "source": [
    "# Predicition \n",
    "label_names = data.classes\n",
    "label_names"
   ]
  },
  {
   "cell_type": "code",
   "execution_count": 66,
   "id": "68010818-c6fa-4d60-8a4e-5c41efc7714e",
   "metadata": {},
   "outputs": [],
   "source": [
    "from PIL import Image"
   ]
  },
  {
   "cell_type": "code",
   "execution_count": 71,
   "id": "3e7c9563-a298-4fad-9b8e-bb46ed0ac0d2",
   "metadata": {},
   "outputs": [
    {
     "name": "stdout",
     "output_type": "stream",
     "text": [
      "Predicted Label : 1\n",
      "Predicted class name :full_org\n"
     ]
    }
   ],
   "source": [
    "image = Image.open(r'E:\\ProjectsAI\\Signature-Recognition\\data\\signatures\\full_forg\\forgeries_1_2.png')\n",
    "preprocess = transforms.Compose([\n",
    "    transforms.Resize(size=(224,224)),\n",
    "    transforms.Grayscale(3),\n",
    "    transforms.ToTensor()])\n",
    "\n",
    "image = preprocess(image)\n",
    "image = image[:3]\n",
    "\n",
    "image = image.unsqueeze(0).to(device)\n",
    "\n",
    "with torch.no_grad():\n",
    "    logits = model(image)\n",
    "    probs = torch.softmax(logits,dim=1)\n",
    "    pred_label = torch.argmax(probs,dim=1)\n",
    "\n",
    "print(f'Predicted Label : {pred_label.item()}')\n",
    "\n",
    "predicted_class_name = label_names[pred_label.item()]\n",
    "\n",
    "print(f'Predicted class name :{predicted_class_name}')"
   ]
  },
  {
   "cell_type": "code",
   "execution_count": null,
   "id": "bab5ab17-ba51-4209-8279-384199b2c399",
   "metadata": {},
   "outputs": [],
   "source": []
  }
 ],
 "metadata": {
  "kernelspec": {
   "display_name": "Python 3 (ipykernel)",
   "language": "python",
   "name": "python3"
  },
  "language_info": {
   "codemirror_mode": {
    "name": "ipython",
    "version": 3
   },
   "file_extension": ".py",
   "mimetype": "text/x-python",
   "name": "python",
   "nbconvert_exporter": "python",
   "pygments_lexer": "ipython3",
   "version": "3.13.2"
  }
 },
 "nbformat": 4,
 "nbformat_minor": 5
}
